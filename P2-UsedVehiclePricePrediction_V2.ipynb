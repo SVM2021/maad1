{
 "cells": [
  {
   "cell_type": "markdown",
   "metadata": {},
   "source": [
    "# Project 2\n",
    "\n",
    "Due date: July 27, 2021, 11:59 pm\n",
    "\n",
    "- The result will be evaluated from a report in Jupyter, which must be found in a public GitHub repository.\n",
    "- The project must be carried out in the groups assigned in class.\n",
    "- Use clear and rigorous procedures.\n",
    "- Due date: July 27, 2021, 11:59 pm, through Bloque Neón + (Upload repository link)\n",
    "- Projects will not be received after the delivery time or by any other means than the one established.\n",
    "\n",
    "# Used Vehicle Price Prediction"
   ]
  },
  {
   "cell_type": "markdown",
   "metadata": {},
   "source": [
    "## Introduction\n",
    "\n",
    "- 1.2 Million listings scraped from TrueCar.com - Price, Mileage, Make, Model dataset from Kaggle: [data](https://www.kaggle.com/jpayne/852k-used-car-listings)\n",
    "- Each observation represents the price of an used car"
   ]
  },
  {
   "cell_type": "code",
   "execution_count": 124,
   "metadata": {},
   "outputs": [],
   "source": [
    "%matplotlib inline\n",
    "import pandas as pd\n",
    "import numpy as np\n",
    "from numpy import arange\n",
    "import multiprocessing\n",
    "import matplotlib.pyplot as plt\n",
    "\n",
    "from sklearn.datasets import load_boston\n",
    "from sklearn.ensemble import RandomForestRegressor\n",
    "from sklearn.metrics import mean_squared_error\n",
    "\n",
    "from sklearn.model_selection import cross_val_score\n",
    "from sklearn.model_selection import train_test_split\n",
    "from sklearn.model_selection import RepeatedKFold\n",
    "from sklearn.model_selection import RandomizedSearchCV\n",
    "from sklearn.model_selection import ParameterGrid\n",
    "from sklearn.model_selection import cross_val_score\n",
    "\n",
    "from sklearn.tree import DecisionTreeRegressor\n",
    "from sklearn.ensemble import GradientBoostingRegressor\n",
    "\n",
    "from sklearn.linear_model import RidgeCV\n",
    "from sklearn.linear_model import Ridge\n",
    "\n",
    "from xgboost import XGBRegressor\n",
    "\n",
    "import pickle"
   ]
  },
  {
   "cell_type": "code",
   "execution_count": 2,
   "metadata": {},
   "outputs": [],
   "source": [
    "data = pd.read_csv('dataTrain_carListings.zip')"
   ]
  },
  {
   "cell_type": "code",
   "execution_count": 3,
   "metadata": {},
   "outputs": [
    {
     "data": {
      "text/html": [
       "<div>\n",
       "<style scoped>\n",
       "    .dataframe tbody tr th:only-of-type {\n",
       "        vertical-align: middle;\n",
       "    }\n",
       "\n",
       "    .dataframe tbody tr th {\n",
       "        vertical-align: top;\n",
       "    }\n",
       "\n",
       "    .dataframe thead th {\n",
       "        text-align: right;\n",
       "    }\n",
       "</style>\n",
       "<table border=\"1\" class=\"dataframe\">\n",
       "  <thead>\n",
       "    <tr style=\"text-align: right;\">\n",
       "      <th></th>\n",
       "      <th>Price</th>\n",
       "      <th>Year</th>\n",
       "      <th>Mileage</th>\n",
       "      <th>State</th>\n",
       "      <th>Make</th>\n",
       "      <th>Model</th>\n",
       "    </tr>\n",
       "  </thead>\n",
       "  <tbody>\n",
       "    <tr>\n",
       "      <th>0</th>\n",
       "      <td>21490</td>\n",
       "      <td>2014</td>\n",
       "      <td>31909</td>\n",
       "      <td>MD</td>\n",
       "      <td>Nissan</td>\n",
       "      <td>MuranoAWD</td>\n",
       "    </tr>\n",
       "    <tr>\n",
       "      <th>1</th>\n",
       "      <td>21250</td>\n",
       "      <td>2016</td>\n",
       "      <td>25741</td>\n",
       "      <td>KY</td>\n",
       "      <td>Chevrolet</td>\n",
       "      <td>CamaroCoupe</td>\n",
       "    </tr>\n",
       "    <tr>\n",
       "      <th>2</th>\n",
       "      <td>20925</td>\n",
       "      <td>2016</td>\n",
       "      <td>24633</td>\n",
       "      <td>SC</td>\n",
       "      <td>Hyundai</td>\n",
       "      <td>Santa</td>\n",
       "    </tr>\n",
       "    <tr>\n",
       "      <th>3</th>\n",
       "      <td>14500</td>\n",
       "      <td>2012</td>\n",
       "      <td>84026</td>\n",
       "      <td>OK</td>\n",
       "      <td>Jeep</td>\n",
       "      <td>Grand</td>\n",
       "    </tr>\n",
       "    <tr>\n",
       "      <th>4</th>\n",
       "      <td>32488</td>\n",
       "      <td>2013</td>\n",
       "      <td>22816</td>\n",
       "      <td>TN</td>\n",
       "      <td>Jeep</td>\n",
       "      <td>Wrangler</td>\n",
       "    </tr>\n",
       "  </tbody>\n",
       "</table>\n",
       "</div>"
      ],
      "text/plain": [
       "   Price  Year  Mileage State       Make        Model\n",
       "0  21490  2014    31909    MD     Nissan    MuranoAWD\n",
       "1  21250  2016    25741    KY  Chevrolet  CamaroCoupe\n",
       "2  20925  2016    24633    SC    Hyundai        Santa\n",
       "3  14500  2012    84026    OK       Jeep        Grand\n",
       "4  32488  2013    22816    TN       Jeep     Wrangler"
      ]
     },
     "execution_count": 3,
     "metadata": {},
     "output_type": "execute_result"
    }
   ],
   "source": [
    "data.head()"
   ]
  },
  {
   "cell_type": "code",
   "execution_count": 4,
   "metadata": {},
   "outputs": [
    {
     "data": {
      "text/plain": [
       "(500000, 6)"
      ]
     },
     "execution_count": 4,
     "metadata": {},
     "output_type": "execute_result"
    }
   ],
   "source": [
    "data.shape"
   ]
  },
  {
   "cell_type": "code",
   "execution_count": 5,
   "metadata": {},
   "outputs": [
    {
     "data": {
      "text/plain": [
       "count    500000.000000\n",
       "mean      21144.186304\n",
       "std       10753.259704\n",
       "min        5001.000000\n",
       "25%       13499.000000\n",
       "50%       18450.000000\n",
       "75%       26998.000000\n",
       "max       79999.000000\n",
       "Name: Price, dtype: float64"
      ]
     },
     "execution_count": 5,
     "metadata": {},
     "output_type": "execute_result"
    }
   ],
   "source": [
    "data.Price.describe()"
   ]
  },
  {
   "cell_type": "code",
   "execution_count": 6,
   "metadata": {},
   "outputs": [
    {
     "data": {
      "text/plain": [
       "<matplotlib.axes._subplots.AxesSubplot at 0x7f776196bef0>"
      ]
     },
     "execution_count": 6,
     "metadata": {},
     "output_type": "execute_result"
    },
    {
     "data": {
      "image/png": "[encoded data removed]",
      "text/plain": [
       "<Figure size 432x288 with 1 Axes>"
      ]
     },
     "metadata": {
      "needs_background": "light"
     },
     "output_type": "display_data"
    }
   ],
   "source": [
    "data.plot(kind='scatter', y='Price', x='Year')"
   ]
  },
  {
   "cell_type": "code",
   "execution_count": 7,
   "metadata": {},
   "outputs": [
    {
     "data": {
      "text/plain": [
       "<matplotlib.axes._subplots.AxesSubplot at 0x7f775f221390>"
      ]
     },
     "execution_count": 7,
     "metadata": {},
     "output_type": "execute_result"
    },
    {
     "data": {
      "image/png": "[encoded data removed]",
      "text/plain": [
       "<Figure size 432x288 with 1 Axes>"
      ]
     },
     "metadata": {
      "needs_background": "light"
     },
     "output_type": "display_data"
    }
   ],
   "source": [
    "data.plot(kind='scatter', y='Price', x='Mileage')"
   ]
  },
  {
   "cell_type": "code",
   "execution_count": 8,
   "metadata": {},
   "outputs": [
    {
     "data": {
      "text/plain": [
       "Index(['Price', 'Year', 'Mileage', 'State', 'Make', 'Model'], dtype='object')"
      ]
     },
     "execution_count": 8,
     "metadata": {},
     "output_type": "execute_result"
    }
   ],
   "source": [
    "data.columns"
   ]
  },
  {
   "cell_type": "markdown",
   "metadata": {},
   "source": [
    "# Exercise P2.1 (50%)\n",
    "\n",
    "Develop a machine learning model that predicts the price of the of car using as an input ['Year', 'Mileage', 'State', 'Make', 'Model']\n",
    "\n",
    "#### Evaluation:\n",
    "- 25% - Performance of the models using a manually implemented K-Fold (K=10) cross-validation.\n",
    "- 25% - Notebook explaining the process for selecting the best model. You must specify how the calibration of each of the parameters is done and how these change the performance of the model. It is expected that a clear comparison will be made of all implemented models. Present the most relevant conslusions about the whole process. \n"
   ]
  },
  {
   "cell_type": "markdown",
   "metadata": {},
   "source": [
    "## Solución"
   ]
  },
  {
   "cell_type": "markdown",
   "metadata": {},
   "source": [
    "### Descripción de los datos"
   ]
  },
  {
   "cell_type": "code",
   "execution_count": 9,
   "metadata": {
    "scrolled": true
   },
   "outputs": [
    {
     "name": "stdout",
     "output_type": "stream",
     "text": [
      "<class 'pandas.core.frame.DataFrame'>\n",
      "RangeIndex: 500000 entries, 0 to 499999\n",
      "Data columns (total 6 columns):\n",
      " #   Column   Non-Null Count   Dtype \n",
      "---  ------   --------------   ----- \n",
      " 0   Price    500000 non-null  int64 \n",
      " 1   Year     500000 non-null  int64 \n",
      " 2   Mileage  500000 non-null  int64 \n",
      " 3   State    500000 non-null  object\n",
      " 4   Make     500000 non-null  object\n",
      " 5   Model    500000 non-null  object\n",
      "dtypes: int64(3), object(3)\n",
      "memory usage: 22.9+ MB\n"
     ]
    }
   ],
   "source": [
    "data.info()"
   ]
  },
  {
   "cell_type": "code",
   "execution_count": 10,
   "metadata": {},
   "outputs": [
    {
     "data": {
      "text/plain": [
       "State\n",
       " AK     1031\n",
       " AL     7873\n",
       " AR     3956\n",
       " AZ    13395\n",
       " CA    45643\n",
       " CO    13669\n",
       " CT     6178\n",
       " DC       10\n",
       " DE     1520\n",
       " FL    42244\n",
       " GA    22790\n",
       " HI     1486\n",
       " IA     2910\n",
       " ID     2153\n",
       " IL    21058\n",
       " IN     9833\n",
       " KS     4621\n",
       " KY     8331\n",
       " LA     4788\n",
       " MA    10753\n",
       " MD    10327\n",
       " ME     1197\n",
       " MI     6677\n",
       " MN     6782\n",
       " MO     9966\n",
       " MS     3843\n",
       " MT     1229\n",
       " NC    22363\n",
       " ND      855\n",
       " NE     3150\n",
       " NH     3413\n",
       " NJ    15220\n",
       " NM     2890\n",
       " NV     4134\n",
       " NY    15617\n",
       " OH    14171\n",
       " OK     6374\n",
       " OR     6128\n",
       " PA    16337\n",
       " RI     1065\n",
       " SC     6026\n",
       " SD      764\n",
       " TN    11569\n",
       " TX    57153\n",
       " UT     6095\n",
       " VA    19851\n",
       " VT      715\n",
       " WA    13637\n",
       " WI     6950\n",
       " WV      833\n",
       " WY      427\n",
       "Name: Price, dtype: int64"
      ]
     },
     "execution_count": 10,
     "metadata": {},
     "output_type": "execute_result"
    }
   ],
   "source": [
    "data.groupby('State')['Price'].count()"
   ]
  },
  {
   "cell_type": "code",
   "execution_count": 11,
   "metadata": {},
   "outputs": [
    {
     "data": {
      "text/plain": [
       "Make\n",
       "Acura            21403.549498\n",
       "Audi             19640.258929\n",
       "BMW              25272.708661\n",
       "Bentley          57455.095890\n",
       "Buick            21220.334312\n",
       "Cadillac         25568.179727\n",
       "Chevrolet        23373.090960\n",
       "Chrysler         16707.204262\n",
       "Dodge            18074.691991\n",
       "FIAT              9060.147929\n",
       "Ford             22550.601028\n",
       "Freightliner     26209.142857\n",
       "GMC              28546.075338\n",
       "Honda            17025.912871\n",
       "Hyundai          14758.422306\n",
       "INFINITI         16492.736426\n",
       "Jaguar           19547.286730\n",
       "Jeep             23378.251965\n",
       "Kia              15913.867007\n",
       "Land             36232.099500\n",
       "Lexus            25861.963158\n",
       "Lincoln          22906.473247\n",
       "MINI             15213.863311\n",
       "Mazda            14098.436653\n",
       "Mercedes-Benz    30087.658629\n",
       "Mercury           7767.018462\n",
       "Mitsubishi       13494.956254\n",
       "Nissan           16254.156744\n",
       "Pontiac           7160.559194\n",
       "Porsche          34534.385000\n",
       "Ram              31420.468584\n",
       "Scion             9556.065000\n",
       "Subaru           19163.805154\n",
       "Suzuki            8173.265306\n",
       "Tesla            55040.780749\n",
       "Toyota           18696.779960\n",
       "Volkswagen       13929.223551\n",
       "Volvo            24646.495137\n",
       "Name: Price, dtype: float64"
      ]
     },
     "execution_count": 11,
     "metadata": {},
     "output_type": "execute_result"
    }
   ],
   "source": [
    "data.groupby('Make')['Price'].mean()"
   ]
  },
  {
   "cell_type": "code",
   "execution_count": 12,
   "metadata": {
    "scrolled": true
   },
   "outputs": [
    {
     "data": {
      "text/plain": [
       "Model\n",
       "1                15609.709559\n",
       "15002WD          18135.846702\n",
       "15004WD          22476.222760\n",
       "1500Laramie      34954.725234\n",
       "1500Tradesman    28654.177305\n",
       "                     ...     \n",
       "Yukon4WD         42035.878866\n",
       "Yukon4dr          8743.032258\n",
       "tC2dr            10247.631737\n",
       "xB5dr             9267.763380\n",
       "xD5dr             8397.180180\n",
       "Name: Price, Length: 525, dtype: float64"
      ]
     },
     "execution_count": 12,
     "metadata": {},
     "output_type": "execute_result"
    }
   ],
   "source": [
    "data.groupby('Model')['Price'].mean()"
   ]
  },
  {
   "cell_type": "markdown",
   "metadata": {},
   "source": [
    "Se observa que las variables Model, State y Make son variables categóricas con muchos niveles, en este caso se procederá a usar one hot encoding, para trabajarlas como dummys. "
   ]
  },
  {
   "cell_type": "code",
   "execution_count": 28,
   "metadata": {},
   "outputs": [
    {
     "data": {
      "text/plain": [
       "(500000, 616)"
      ]
     },
     "execution_count": 28,
     "metadata": {},
     "output_type": "execute_result"
    }
   ],
   "source": [
    "x1 = pd.get_dummies(data[['Mileage','State','Model','Make','Price']])\n",
    "x1.shape"
   ]
  },
  {
   "cell_type": "markdown",
   "metadata": {},
   "source": [
    "Al realizar este procedimiento, se obtienen un total de 616 variables, a continuación se seleccionarán las categorías que representan el 80% con mayor frecuencia."
   ]
  },
  {
   "cell_type": "markdown",
   "metadata": {},
   "source": [
    "### Selección de variables"
   ]
  },
  {
   "cell_type": "markdown",
   "metadata": {},
   "source": [
    "**State**"
   ]
  },
  {
   "cell_type": "code",
   "execution_count": 29,
   "metadata": {},
   "outputs": [],
   "source": [
    "df = data['State'].value_counts().to_frame()\n",
    "df[\"acum_1\"] = df[\"State\"].cumsum()/df[\"State\"].sum()*100"
   ]
  },
  {
   "cell_type": "code",
   "execution_count": 30,
   "metadata": {
    "scrolled": false
   },
   "outputs": [
    {
     "name": "stderr",
     "output_type": "stream",
     "text": [
      "/home/jupyter/anaconda3/lib/python3.7/site-packages/matplotlib/cbook/__init__.py:1377: FutureWarning: Support for multi-dimensional indexing (e.g. `obj[:, None]`) is deprecated and will be removed in a future version.  Convert to a numpy array before indexing instead.\n",
      "  x[:, None]\n",
      "/home/jupyter/anaconda3/lib/python3.7/site-packages/matplotlib/axes/_base.py:237: FutureWarning: Support for multi-dimensional indexing (e.g. `obj[:, None]`) is deprecated and will be removed in a future version.  Convert to a numpy array before indexing instead.\n",
      "  x = x[:, np.newaxis]\n",
      "/home/jupyter/anaconda3/lib/python3.7/site-packages/matplotlib/axes/_base.py:239: FutureWarning: Support for multi-dimensional indexing (e.g. `obj[:, None]`) is deprecated and will be removed in a future version.  Convert to a numpy array before indexing instead.\n",
      "  y = y[:, np.newaxis]\n"
     ]
    },
    {
     "data": {
      "image/png": "[encoded data removed]",
      "text/plain": [
       "<Figure size 1800x720 with 2 Axes>"
      ]
     },
     "metadata": {},
     "output_type": "display_data"
    }
   ],
   "source": [
    "plt.rcParams[\"figure.figsize\"] = (25,10)\n",
    "\n",
    "fig, ax = plt.subplots()\n",
    "ax.bar(df.index, df[\"State\"], color=\"C0\")\n",
    "ax2 = ax.twinx()\n",
    "ax2.plot(df.index, df[\"acum_1\"], color=\"C1\", marker=\"D\", ms=7)\n",
    "\n",
    "ax.tick_params(axis=\"y\", colors=\"C0\")\n",
    "ax2.tick_params(axis=\"y\", colors=\"C1\")\n",
    "plt.show()"
   ]
  },
  {
   "cell_type": "code",
   "execution_count": 31,
   "metadata": {},
   "outputs": [],
   "source": [
    "state_list=list(df[df['acum_1']<=80].index)\n",
    "data['State_new']=np.where(data['State'].isin(state_list),data['State'],\"OTRO\")"
   ]
  },
  {
   "cell_type": "code",
   "execution_count": 37,
   "metadata": {},
   "outputs": [
    {
     "name": "stdout",
     "output_type": "stream",
     "text": [
      "Categorias iniciales: 51 , Categorias finales: 20\n"
     ]
    }
   ],
   "source": [
    "print(\"Categorias iniciales:\", data['State'].nunique(),\",\",\"Categorias finales:\", len(state_list))"
   ]
  },
  {
   "cell_type": "markdown",
   "metadata": {},
   "source": [
    "La variable original state tenía 51 categorías, luego de escoger el 80% más frecuente, nos quedamos con 19 categorias y al restante lo marcamos como \"otro\", obteniendo un total de 20 categorías."
   ]
  },
  {
   "cell_type": "markdown",
   "metadata": {},
   "source": [
    "**Model**"
   ]
  },
  {
   "cell_type": "code",
   "execution_count": 38,
   "metadata": {},
   "outputs": [],
   "source": [
    "df1 = data['Model'].value_counts().to_frame()\n",
    "df1[\"acum_2\"] = df1[\"Model\"].cumsum()/df1[\"Model\"].sum()*100"
   ]
  },
  {
   "cell_type": "code",
   "execution_count": 39,
   "metadata": {},
   "outputs": [
    {
     "name": "stderr",
     "output_type": "stream",
     "text": [
      "/home/jupyter/anaconda3/lib/python3.7/site-packages/matplotlib/cbook/__init__.py:1377: FutureWarning: Support for multi-dimensional indexing (e.g. `obj[:, None]`) is deprecated and will be removed in a future version.  Convert to a numpy array before indexing instead.\n",
      "  x[:, None]\n",
      "/home/jupyter/anaconda3/lib/python3.7/site-packages/matplotlib/axes/_base.py:237: FutureWarning: Support for multi-dimensional indexing (e.g. `obj[:, None]`) is deprecated and will be removed in a future version.  Convert to a numpy array before indexing instead.\n",
      "  x = x[:, np.newaxis]\n",
      "/home/jupyter/anaconda3/lib/python3.7/site-packages/matplotlib/axes/_base.py:239: FutureWarning: Support for multi-dimensional indexing (e.g. `obj[:, None]`) is deprecated and will be removed in a future version.  Convert to a numpy array before indexing instead.\n",
      "  y = y[:, np.newaxis]\n"
     ]
    },
    {
     "data": {
      "image/png": "[encoded data removed]",
      "text/plain": [
       "<Figure size 1800x720 with 2 Axes>"
      ]
     },
     "metadata": {},
     "output_type": "display_data"
    }
   ],
   "source": [
    "plt.rcParams[\"figure.figsize\"] = (25,10)\n",
    "\n",
    "fig, ax = plt.subplots()\n",
    "ax.bar(df1.index, df1[\"Model\"], color=\"C0\")\n",
    "ax2 = ax.twinx()\n",
    "ax2.plot(df1.index, df1[\"acum_2\"], color=\"C1\", marker=\"D\", ms=7)\n",
    "\n",
    "ax.tick_params(axis=\"y\", colors=\"C0\")\n",
    "ax2.tick_params(axis=\"y\", colors=\"C1\")\n",
    "plt.show()"
   ]
  },
  {
   "cell_type": "code",
   "execution_count": 40,
   "metadata": {},
   "outputs": [],
   "source": [
    "Model_list=list(df1[df1['acum_2']<=80].index)\n",
    "data['Model_new']=np.where(data['Model'].isin(Model_list),data['Model'],\"OTRO\")"
   ]
  },
  {
   "cell_type": "code",
   "execution_count": 41,
   "metadata": {},
   "outputs": [
    {
     "data": {
      "text/plain": [
       "OTRO             100155\n",
       "Silverado         22562\n",
       "Grand             15382\n",
       "Sierra            10423\n",
       "Accord             9145\n",
       "                  ...  \n",
       "Pathfinder4WD       768\n",
       "X5AWD               757\n",
       "PriusThree          748\n",
       "Camry               742\n",
       "RAV44WD             738\n",
       "Name: Model_new, Length: 180, dtype: int64"
      ]
     },
     "execution_count": 41,
     "metadata": {},
     "output_type": "execute_result"
    }
   ],
   "source": [
    "data['Model_new'].value_counts()"
   ]
  },
  {
   "cell_type": "code",
   "execution_count": 43,
   "metadata": {},
   "outputs": [
    {
     "name": "stdout",
     "output_type": "stream",
     "text": [
      "Categorias iniciales: 525 , Categorias finales: 179\n"
     ]
    }
   ],
   "source": [
    "print(\"Categorias iniciales:\", data['Model'].nunique(),\",\",\"Categorias finales:\", len(Model_list))"
   ]
  },
  {
   "cell_type": "markdown",
   "metadata": {},
   "source": [
    "La variable original Model tenía 525 categorías, luego de escoger el 80% más frecuente, nos quedamos con 178 categorias y al restante lo marcamos como \"otro\", obteniendo un total de 179 categorías."
   ]
  },
  {
   "cell_type": "markdown",
   "metadata": {},
   "source": [
    "**Make**"
   ]
  },
  {
   "cell_type": "code",
   "execution_count": 44,
   "metadata": {},
   "outputs": [],
   "source": [
    "df2 = data['Make'].value_counts().to_frame()\n",
    "df2[\"acum_3\"] = df2[\"Make\"].cumsum()/df2[\"Make\"].sum()*100"
   ]
  },
  {
   "cell_type": "code",
   "execution_count": 45,
   "metadata": {},
   "outputs": [
    {
     "name": "stderr",
     "output_type": "stream",
     "text": [
      "/home/jupyter/anaconda3/lib/python3.7/site-packages/matplotlib/cbook/__init__.py:1377: FutureWarning: Support for multi-dimensional indexing (e.g. `obj[:, None]`) is deprecated and will be removed in a future version.  Convert to a numpy array before indexing instead.\n",
      "  x[:, None]\n",
      "/home/jupyter/anaconda3/lib/python3.7/site-packages/matplotlib/axes/_base.py:237: FutureWarning: Support for multi-dimensional indexing (e.g. `obj[:, None]`) is deprecated and will be removed in a future version.  Convert to a numpy array before indexing instead.\n",
      "  x = x[:, np.newaxis]\n",
      "/home/jupyter/anaconda3/lib/python3.7/site-packages/matplotlib/axes/_base.py:239: FutureWarning: Support for multi-dimensional indexing (e.g. `obj[:, None]`) is deprecated and will be removed in a future version.  Convert to a numpy array before indexing instead.\n",
      "  y = y[:, np.newaxis]\n"
     ]
    },
    {
     "data": {
      "image/png": "[encoded data removed]",
      "text/plain": [
       "<Figure size 1800x720 with 2 Axes>"
      ]
     },
     "metadata": {},
     "output_type": "display_data"
    }
   ],
   "source": [
    "plt.rcParams[\"figure.figsize\"] = (25,10)\n",
    "\n",
    "fig, ax = plt.subplots()\n",
    "ax.bar(df2.index, df2[\"Make\"], color=\"C0\")\n",
    "ax2 = ax.twinx()\n",
    "ax2.plot(df2.index, df2[\"acum_3\"], color=\"C1\", marker=\"D\", ms=7)\n",
    "\n",
    "ax.tick_params(axis=\"y\", colors=\"C0\")\n",
    "ax2.tick_params(axis=\"y\", colors=\"C1\")\n",
    "plt.show()"
   ]
  },
  {
   "cell_type": "code",
   "execution_count": 46,
   "metadata": {},
   "outputs": [],
   "source": [
    "Make_list=list(df2[df2['acum_3']<=80].index)\n",
    "data['Make_new']=np.where(data['Make'].isin(Make_list),data['Make'],\"OTRO\")"
   ]
  },
  {
   "cell_type": "code",
   "execution_count": 47,
   "metadata": {},
   "outputs": [
    {
     "data": {
      "text/plain": [
       "OTRO         101247\n",
       "Ford          78627\n",
       "Chevrolet     72900\n",
       "Toyota        57485\n",
       "Honda         41490\n",
       "Jeep          30413\n",
       "GMC           25963\n",
       "Kia           20347\n",
       "Dodge         20178\n",
       "Hyundai       18856\n",
       "Lexus         17127\n",
       "BMW           15367\n",
       "Name: Make_new, dtype: int64"
      ]
     },
     "execution_count": 47,
     "metadata": {},
     "output_type": "execute_result"
    }
   ],
   "source": [
    "data['Make_new'].value_counts()"
   ]
  },
  {
   "cell_type": "code",
   "execution_count": 48,
   "metadata": {},
   "outputs": [
    {
     "name": "stdout",
     "output_type": "stream",
     "text": [
      "Categorias iniciales: 38 , Categorias finales: 11\n"
     ]
    }
   ],
   "source": [
    "print(\"Categorias iniciales:\", data['Make'].nunique(),\",\",\"Categorias finales:\", len(Make_list))"
   ]
  },
  {
   "cell_type": "markdown",
   "metadata": {},
   "source": [
    "La variable original Make tenía 38 categorías, luego de escoger el 80% más frecuente, nos quedamos con 10 categorias y al restante lo marcamos como \"otro\", obteniendo un total de 11 categorías."
   ]
  },
  {
   "cell_type": "code",
   "execution_count": 50,
   "metadata": {},
   "outputs": [
    {
     "data": {
      "text/plain": [
       "(500000, 215)"
      ]
     },
     "execution_count": 50,
     "metadata": {},
     "output_type": "execute_result"
    }
   ],
   "source": [
    "data = data[['Year','Mileage','State_new','Model_new','Make_new','Price']]\n",
    "x1 = data[['Year','Mileage','State_new','Model_new','Make_new']]\n",
    "y1 = data['Price']\n",
    "x1 = pd.get_dummies(x1)\n",
    "x1.shape"
   ]
  },
  {
   "cell_type": "markdown",
   "metadata": {},
   "source": [
    "Finalmente, seleccionamos **215 variables** que entrarán como predictoras para el modelamiento."
   ]
  },
  {
   "cell_type": "markdown",
   "metadata": {},
   "source": [
    "### Rendimiento modelamiento con CV"
   ]
  },
  {
   "cell_type": "markdown",
   "metadata": {},
   "source": [
    "A continuación, se crea la función manual **cross_validate** para realizar validación cruzada en cualquier modelo con k particiones. En este caso, se usarán para todos 10 k-fold."
   ]
  },
  {
   "cell_type": "code",
   "execution_count": 51,
   "metadata": {},
   "outputs": [],
   "source": [
    "## Partición entre test y train\n",
    "\n",
    "x_train, x_test, y_train, y_test = train_test_split(\n",
    "                                     x1, y1, test_size=0.30, random_state=123)\n",
    "\n",
    "data_final = x_train.copy()\n",
    "data_final['Price'] = y_train"
   ]
  },
  {
   "cell_type": "code",
   "execution_count": 97,
   "metadata": {},
   "outputs": [],
   "source": [
    "def cross_validate(CV, model, data):\n",
    "\n",
    "    # Definición: cross_validate\n",
    "    # Esta definición realizará validación cruzada, al modelo de interés dividiendolo en k-folds aleatoriamente.\n",
    "    # Ejemplo: cross_validate(CV=10, model=DecisionTreeRegressor(random_state=1), data=data_final)\n",
    "    # Salida: lista de los rmse de todos los k-fold\n",
    "    \n",
    "    rmse_total = []\n",
    "\n",
    "    # División en k-fols aletoriamente\n",
    "    \n",
    "    shuffled = data.sample(frac=1, random_state=1)\n",
    "    result = np.array_split(shuffled, CV)\n",
    "\n",
    "    for i in range(0,CV):  \n",
    "\n",
    "        result1 = result.copy()\n",
    "\n",
    "        # Escoger la partición como test\n",
    "        \n",
    "        particion = result1[i].copy()\n",
    "        \n",
    "        x_test = particion.drop(columns='Price')\n",
    "        y_test = particion['Price']\n",
    "\n",
    "        result1.pop(i)\n",
    "        \n",
    "        # Escoger el complemento como train\n",
    "\n",
    "        x_train = pd.concat(result1).drop(columns='Price')\n",
    "        y_train = pd.concat(result1)['Price']\n",
    "       \n",
    "        # Ajuste del modelo de interés \n",
    "\n",
    "        model.fit(x_train, y_train)\n",
    "        \n",
    "        # Predicción del modelo ajustado \n",
    "\n",
    "        predicciones = model.predict(x_test)\n",
    "\n",
    "        # RMSE de la partición\n",
    "        \n",
    "        rmse = mean_squared_error(\n",
    "                    y_true  = y_test,\n",
    "                    y_pred  = predicciones\n",
    "                   )\n",
    "        print(f\"El error (rmse) de test es: {np.sqrt(rmse)}\")\n",
    "\n",
    "        rmse_total.append(np.sqrt(rmse))\n",
    "\n",
    "    return(rmse_total)"
   ]
  },
  {
   "cell_type": "markdown",
   "metadata": {},
   "source": [
    "Se utilizará la función realizada para observar el desempeño de los diferentes modelos propuestos para la predicción del precio en los carros usados. Se realizará la validación cruzada con 10 k-fold."
   ]
  },
  {
   "cell_type": "markdown",
   "metadata": {},
   "source": [
    "**Árbol de decisión**"
   ]
  },
  {
   "cell_type": "code",
   "execution_count": 55,
   "metadata": {},
   "outputs": [
    {
     "name": "stdout",
     "output_type": "stream",
     "text": [
      "El error (rmse) de test es: 6769.75969560676\n",
      "El error (rmse) de test es: 6774.422421669401\n",
      "El error (rmse) de test es: 6721.218060681625\n",
      "El error (rmse) de test es: 6672.708002442219\n",
      "El error (rmse) de test es: 6811.664820078569\n",
      "El error (rmse) de test es: 6714.259436281273\n",
      "El error (rmse) de test es: 6829.171683307831\n",
      "El error (rmse) de test es: 6760.118406333011\n",
      "El error (rmse) de test es: 6670.808985550793\n",
      "El error (rmse) de test es: 6767.500797110302\n"
     ]
    }
   ],
   "source": [
    "cross_arbol = cross_validate(CV=10, model=DecisionTreeRegressor(random_state=1), data=data_final)"
   ]
  },
  {
   "cell_type": "code",
   "execution_count": 62,
   "metadata": {},
   "outputs": [
    {
     "data": {
      "text/plain": [
       "6749.163230906178"
      ]
     },
     "execution_count": 62,
     "metadata": {},
     "output_type": "execute_result"
    }
   ],
   "source": [
    "rmse_arbol = np.mean(cross_arbol)\n",
    "rmse_arbol"
   ]
  },
  {
   "cell_type": "markdown",
   "metadata": {},
   "source": [
    "**Regresión Lineal - Ridge**"
   ]
  },
  {
   "cell_type": "code",
   "execution_count": 66,
   "metadata": {},
   "outputs": [
    {
     "name": "stdout",
     "output_type": "stream",
     "text": [
      "El error (rmse) de test es: 5801.018344568858\n",
      "El error (rmse) de test es: 5667.917099541894\n",
      "El error (rmse) de test es: 5703.082693278318\n",
      "El error (rmse) de test es: 5607.729835186356\n",
      "El error (rmse) de test es: 5805.955477642559\n",
      "El error (rmse) de test es: 5637.879807279024\n",
      "El error (rmse) de test es: 5700.499305331515\n",
      "El error (rmse) de test es: 5762.600832354135\n",
      "El error (rmse) de test es: 5576.546674831382\n",
      "El error (rmse) de test es: 5681.544883287262\n"
     ]
    }
   ],
   "source": [
    "cross_ridge = cross_validate(CV=10, model=Ridge(random_state=1), data=data_final)"
   ]
  },
  {
   "cell_type": "code",
   "execution_count": 68,
   "metadata": {},
   "outputs": [
    {
     "data": {
      "text/plain": [
       "5694.47749533013"
      ]
     },
     "execution_count": 68,
     "metadata": {},
     "output_type": "execute_result"
    }
   ],
   "source": [
    "rmse_ridge = np.mean(cross_ridge)\n",
    "rmse_ridge"
   ]
  },
  {
   "cell_type": "markdown",
   "metadata": {},
   "source": [
    "**Random Forest**"
   ]
  },
  {
   "cell_type": "code",
   "execution_count": 71,
   "metadata": {},
   "outputs": [
    {
     "name": "stdout",
     "output_type": "stream",
     "text": [
      "El error (rmse) de test es: 5462.475854274673\n",
      "El error (rmse) de test es: 5466.9216137233425\n",
      "El error (rmse) de test es: 5401.430207582744\n",
      "El error (rmse) de test es: 5353.851202279382\n",
      "El error (rmse) de test es: 5529.544310372795\n",
      "El error (rmse) de test es: 5383.332717079338\n",
      "El error (rmse) de test es: 5452.052351221296\n",
      "El error (rmse) de test es: 5464.9349383797835\n",
      "El error (rmse) de test es: 5299.710920170726\n",
      "El error (rmse) de test es: 5496.284288773138\n"
     ]
    }
   ],
   "source": [
    "cross_rf = cross_validate(CV=10, model=RandomForestRegressor(random_state=1, n_estimators=10), data=data_final)"
   ]
  },
  {
   "cell_type": "code",
   "execution_count": 72,
   "metadata": {},
   "outputs": [
    {
     "data": {
      "text/plain": [
       "5431.053840385722"
      ]
     },
     "execution_count": 72,
     "metadata": {},
     "output_type": "execute_result"
    }
   ],
   "source": [
    "rmse_rf = np.mean(cross_rf)\n",
    "rmse_rf"
   ]
  },
  {
   "cell_type": "markdown",
   "metadata": {},
   "source": [
    "**Gradient Boosting**"
   ]
  },
  {
   "cell_type": "code",
   "execution_count": 77,
   "metadata": {},
   "outputs": [
    {
     "name": "stdout",
     "output_type": "stream",
     "text": [
      "El error (rmse) de test es: 6917.472212775387\n",
      "El error (rmse) de test es: 6860.511187461544\n",
      "El error (rmse) de test es: 6836.329315303919\n",
      "El error (rmse) de test es: 6809.857413021914\n",
      "El error (rmse) de test es: 6952.377483919632\n",
      "El error (rmse) de test es: 6797.547862149714\n",
      "El error (rmse) de test es: 6884.516502415409\n",
      "El error (rmse) de test es: 6904.075189004035\n",
      "El error (rmse) de test es: 6778.6924644352775\n",
      "El error (rmse) de test es: 6907.657926363718\n"
     ]
    }
   ],
   "source": [
    "cross_gboost = cross_validate(CV=10, model=GradientBoostingRegressor(random_state=1), data=data_final)"
   ]
  },
  {
   "cell_type": "code",
   "execution_count": 91,
   "metadata": {},
   "outputs": [
    {
     "data": {
      "text/plain": [
       "6864.903755685055"
      ]
     },
     "execution_count": 91,
     "metadata": {},
     "output_type": "execute_result"
    }
   ],
   "source": [
    "rmse_gboost = np.mean(cross_gboost)\n",
    "rmse_gboost"
   ]
  },
  {
   "cell_type": "markdown",
   "metadata": {},
   "source": [
    "**XGBoost**"
   ]
  },
  {
   "cell_type": "code",
   "execution_count": 89,
   "metadata": {},
   "outputs": [
    {
     "name": "stdout",
     "output_type": "stream",
     "text": [
      "El error (rmse) de test es: 6909.481816071308\n",
      "El error (rmse) de test es: 6884.227843762992\n",
      "El error (rmse) de test es: 6833.798699177473\n",
      "El error (rmse) de test es: 6821.339037230268\n",
      "El error (rmse) de test es: 6945.233424831813\n",
      "El error (rmse) de test es: 6808.664575626614\n",
      "El error (rmse) de test es: 6885.092475000693\n",
      "El error (rmse) de test es: 6919.063321145872\n",
      "El error (rmse) de test es: 6764.342389906615\n",
      "El error (rmse) de test es: 6918.050151157018\n"
     ]
    }
   ],
   "source": [
    "cross_xgboost = cross_validate(CV=10, model=XGBRegressor(random_state=1), data=data_final)"
   ]
  },
  {
   "cell_type": "code",
   "execution_count": 90,
   "metadata": {},
   "outputs": [
    {
     "data": {
      "text/plain": [
       "6868.929373391065"
      ]
     },
     "execution_count": 90,
     "metadata": {},
     "output_type": "execute_result"
    }
   ],
   "source": [
    "rmse_xgboost = np.mean(cross_xgboost)\n",
    "rmse_xgboost"
   ]
  },
  {
   "cell_type": "markdown",
   "metadata": {},
   "source": [
    "**Resumen**\n",
    "\n",
    "Para el ajuste de los 5 modelos propuestos luego de realizar la validación cruzada, el RMSE promedio de las particiones con los parámetros por defecto son:"
   ]
  },
  {
   "cell_type": "code",
   "execution_count": 95,
   "metadata": {},
   "outputs": [
    {
     "name": "stdout",
     "output_type": "stream",
     "text": [
      "Random Forest: 5431.05\n",
      "Regresión lineal ridge: 5694.48\n",
      "Árbol de decisión: 6749.16\n",
      "Grandient Boosting: 6864.9\n",
      "XGBoost: 6868.93\n"
     ]
    }
   ],
   "source": [
    "print(\"Random Forest:\", round(rmse_rf,2))\n",
    "print(\"Regresión lineal ridge:\", round(rmse_ridge,2))\n",
    "print(\"Árbol de decisión:\", round(rmse_arbol,2))\n",
    "print(\"Grandient Boosting:\", round(rmse_gboost,2))\n",
    "print(\"XGBoost:\", round(rmse_xgboost,2))"
   ]
  },
  {
   "cell_type": "markdown",
   "metadata": {},
   "source": [
    "De acuerdo a los resultados, se observa que el mejor rendimiento es el que se obtiene con el modelo ajustado con Random Forest. Por otro lado, el modelo con peor desempeño es el XGBoost. Estos modelos fueron ajustados con sus parámetros por defecto."
   ]
  },
  {
   "cell_type": "markdown",
   "metadata": {},
   "source": [
    "### Calibración de parámetros"
   ]
  },
  {
   "cell_type": "markdown",
   "metadata": {},
   "source": [
    "**Árbol de decisión**"
   ]
  },
  {
   "cell_type": "markdown",
   "metadata": {},
   "source": [
    "Para el árbol de decisión se calibrará el parámetro de profundidad, variandolo de 1 a 80 con salto de 15. Adicionalmente, se realizará validación cruzada para cada iteración con la función creada anteriormente."
   ]
  },
  {
   "cell_type": "code",
   "execution_count": 100,
   "metadata": {},
   "outputs": [
    {
     "name": "stdout",
     "output_type": "stream",
     "text": [
      "9626.53612352283\n",
      "7027.229272339437\n",
      "6339.685751898238\n",
      "6559.778624200681\n",
      "6658.975322920951\n",
      "6700.3095145038915\n"
     ]
    }
   ],
   "source": [
    "max_depth_range = range(1, 80, 15)\n",
    "\n",
    "rmse_scores = []\n",
    "\n",
    "for depth in max_depth_range:\n",
    "    clf = DecisionTreeRegressor(max_depth=depth, random_state=1)\n",
    "    cross_val = np.mean(cross_validate(CV=10, model=clf, data=data_final))\n",
    "    rmse_scores.append(cross_val)\n",
    "    print(cross_val)"
   ]
  },
  {
   "cell_type": "code",
   "execution_count": 102,
   "metadata": {},
   "outputs": [
    {
     "data": {
      "text/plain": [
       "31"
      ]
     },
     "execution_count": 102,
     "metadata": {},
     "output_type": "execute_result"
    }
   ],
   "source": [
    "results_tree = pd.DataFrame({'alpha':max_depth_range,'rmse':rmse_scores})\n",
    "depth_optimo = results_tree.sort_values(by=('rmse')).iloc[0,0]\n",
    "depth_optimo"
   ]
  },
  {
   "cell_type": "code",
   "execution_count": 103,
   "metadata": {},
   "outputs": [
    {
     "data": {
      "text/plain": [
       "Text(0, 0.5, 'RMSE')"
      ]
     },
     "execution_count": 103,
     "metadata": {},
     "output_type": "execute_result"
    },
    {
     "data": {
      "image/png": "[encoded data removed]",
      "text/plain": [
       "<Figure size 432x288 with 1 Axes>"
      ]
     },
     "metadata": {
      "needs_background": "light"
     },
     "output_type": "display_data"
    }
   ],
   "source": [
    "plt.plot(max_depth_range, rmse_scores)\n",
    "plt.xlabel('max_depth')\n",
    "plt.ylabel('RMSE')"
   ]
  },
  {
   "cell_type": "markdown",
   "metadata": {},
   "source": [
    "La profundidad óptima para el árbol de decisión es de 31."
   ]
  },
  {
   "cell_type": "code",
   "execution_count": 104,
   "metadata": {},
   "outputs": [
    {
     "data": {
      "text/plain": [
       "DecisionTreeRegressor(criterion='mse', max_depth=31, max_features=None,\n",
       "           max_leaf_nodes=None, min_impurity_decrease=0.0,\n",
       "           min_impurity_split=None, min_samples_leaf=1,\n",
       "           min_samples_split=2, min_weight_fraction_leaf=0.0,\n",
       "           presort=False, random_state=1, splitter='best')"
      ]
     },
     "execution_count": 104,
     "metadata": {},
     "output_type": "execute_result"
    }
   ],
   "source": [
    "clf = DecisionTreeRegressor(max_depth=depth_optimo, random_state=1)\n",
    "clf.fit(x_train, y_train)"
   ]
  },
  {
   "cell_type": "code",
   "execution_count": 142,
   "metadata": {},
   "outputs": [],
   "source": [
    "predict_arbol_train = clf.predict(X = x_train)\n",
    "predict_arbol_test  = clf.predict(X = x_test)"
   ]
  },
  {
   "cell_type": "code",
   "execution_count": 143,
   "metadata": {},
   "outputs": [
    {
     "name": "stdout",
     "output_type": "stream",
     "text": [
      "El error (rmse) de test es: 6333.987203660371\n"
     ]
    }
   ],
   "source": [
    "rmse_arbol2 = mean_squared_error(\n",
    "                y_true  = y_test,\n",
    "                y_pred  = predict_arbol_test\n",
    "               )\n",
    "print(f\"El error (rmse) de test es: {np.sqrt(rmse_arbol2)}\")"
   ]
  },
  {
   "cell_type": "markdown",
   "metadata": {},
   "source": [
    "**Regresión lineal - Ridge**"
   ]
  },
  {
   "cell_type": "markdown",
   "metadata": {},
   "source": [
    "Para la regresión lineal con penalización Ridge se encontrará el alpha óptimo, variando el parámetro de 0 a 1 con salto de 0.1. Adicionalmente, se realizará validación cruzada para cada iteración con la función creada anteriormente."
   ]
  },
  {
   "cell_type": "code",
   "execution_count": 117,
   "metadata": {},
   "outputs": [
    {
     "name": "stdout",
     "output_type": "stream",
     "text": [
      "5694.6157104683325\n",
      "5694.475997594219\n",
      "5694.475793007811\n",
      "5694.475681739402\n",
      "5694.475663543914\n",
      "5694.475738177494\n",
      "5694.475905397489\n",
      "5694.476164962435\n",
      "5694.4765166320585\n",
      "5694.476960167265\n"
     ]
    }
   ],
   "source": [
    "alpharange = np.arange(0, 1, 0.1)\n",
    "ridge = []\n",
    "for alpha in alpharange:\n",
    "    reg = Ridge(alpha=alpha, random_state=1)\n",
    "    regs = np.mean(cross_validate(CV=10, model=reg, data=data_final))\n",
    "    ridge.append(regs)\n",
    "    print(regs)"
   ]
  },
  {
   "cell_type": "code",
   "execution_count": 118,
   "metadata": {},
   "outputs": [
    {
     "data": {
      "text/plain": [
       "0.4"
      ]
     },
     "execution_count": 118,
     "metadata": {},
     "output_type": "execute_result"
    }
   ],
   "source": [
    "results_ridge = pd.DataFrame({'alpha':alpharange,'rmse':ridge})\n",
    "alpha_optimo = results_ridge.sort_values(by=('rmse')).iloc[0,0]\n",
    "alpha_optimo"
   ]
  },
  {
   "cell_type": "code",
   "execution_count": 119,
   "metadata": {},
   "outputs": [
    {
     "data": {
      "text/plain": [
       "<matplotlib.legend.Legend at 0x7f7725816400>"
      ]
     },
     "execution_count": 119,
     "metadata": {},
     "output_type": "execute_result"
    },
    {
     "data": {
      "image/png": "[encoded data removed]",
      "text/plain": [
       "<Figure size 432x288 with 1 Axes>"
      ]
     },
     "metadata": {
      "needs_background": "light"
     },
     "output_type": "display_data"
    }
   ],
   "source": [
    "plt.plot(alpharange,ridge,color=\"red\",label=\"Ridge\")\n",
    "plt.xlabel('alpha')\n",
    "plt.ylabel('RMSE')\n",
    "plt.title(\"Mean\")\n",
    "plt.legend()"
   ]
  },
  {
   "cell_type": "markdown",
   "metadata": {},
   "source": [
    "El alpha óptimo para la regresión ridge es de 0.4."
   ]
  },
  {
   "cell_type": "code",
   "execution_count": 120,
   "metadata": {},
   "outputs": [
    {
     "data": {
      "text/plain": [
       "Ridge(alpha=0.4, copy_X=True, fit_intercept=True, max_iter=None,\n",
       "   normalize=False, random_state=1, solver='auto', tol=0.001)"
      ]
     },
     "execution_count": 120,
     "metadata": {},
     "output_type": "execute_result"
    }
   ],
   "source": [
    "reg = Ridge(alpha=alpha_optimo, random_state=1)\n",
    "reg.fit(x_train, y_train)"
   ]
  },
  {
   "cell_type": "code",
   "execution_count": 144,
   "metadata": {},
   "outputs": [],
   "source": [
    "predict_ridge_train = reg.predict(X = x_train)\n",
    "predict_ridge_test  = reg.predict(X = x_test)"
   ]
  },
  {
   "cell_type": "code",
   "execution_count": 145,
   "metadata": {},
   "outputs": [
    {
     "name": "stdout",
     "output_type": "stream",
     "text": [
      "El error (rmse) de test es: 5801.019583050098\n"
     ]
    }
   ],
   "source": [
    "rmse_ridge2 = mean_squared_error(\n",
    "                y_true  = y_test,\n",
    "                y_pred  = predict_ridge_test\n",
    "               )\n",
    "print(f\"El error (rmse) de test es: {np.sqrt(rmse_ridge2)}\")"
   ]
  },
  {
   "cell_type": "markdown",
   "metadata": {},
   "source": [
    "**Gradient Boosting**\n",
    "\n",
    "Para el gradient boosting se encontrará el mejor rendimiento realizando diferentes combinaciones de los hiperparámetros: *max_features*, *max_depth*, *subsample* y *learning_rate*. Adicionalmente, se realizará validación cruzada para cada iteración con la función *RandomizedSearchCV*."
   ]
  },
  {
   "cell_type": "code",
   "execution_count": 129,
   "metadata": {},
   "outputs": [
    {
     "name": "stdout",
     "output_type": "stream",
     "text": [
      "Fitting 10 folds for each of 5 candidates, totalling 50 fits\n",
      "RandomizedSearchCV(cv=10, error_score='raise-deprecating',\n",
      "          estimator=GradientBoostingRegressor(alpha=0.9, criterion='friedman_mse', init=None,\n",
      "             learning_rate=0.1, loss='ls', max_depth=3, max_features=None,\n",
      "             max_leaf_nodes=None, min_impurity_decrease=0.0,\n",
      "             min_impurity_split=None, min_samples_leaf=1,\n",
      "             min_sampl...=None, subsample=1.0, tol=0.0001,\n",
      "             validation_fraction=0.1, verbose=0, warm_start=False),\n",
      "          fit_params=None, iid='warn', n_iter=5, n_jobs=-1,\n",
      "          param_distributions={'max_features': ['auto', 'sqrt', 'log2'], 'max_depth': [None, 1, 3, 5, 10, 20], 'subsample': [0.5, 1], 'learning_rate': [0.001, 0.01, 0.1]},\n",
      "          pre_dispatch='2*n_jobs', random_state=1, refit=True,\n",
      "          return_train_score='warn', scoring='neg_mean_absolute_error',\n",
      "          verbose=3)\n"
     ]
    }
   ],
   "source": [
    "model = GradientBoostingRegressor()\n",
    "param_grid = {'max_features'  : ['auto', 'sqrt', 'log2'],\n",
    "              'max_depth'     : [None, 1, 3, 5, 10, 20],\n",
    "              'subsample'     : [0.5, 1],\n",
    "              'learning_rate' : [0.001, 0.01, 0.1]\n",
    "             }\n",
    "\n",
    "randm = RandomizedSearchCV(estimator=model, \n",
    "                           param_distributions = param_grid,\n",
    "                           cv = 10, \n",
    "                           n_iter = 5, \n",
    "                           n_jobs=-1, \n",
    "                           verbose=3, \n",
    "                           random_state=1,\n",
    "                           scoring = 'neg_mean_absolute_error')\n",
    "randm.fit(x_train, y_train)"
   ]
  },
  {
   "cell_type": "code",
   "execution_count": 141,
   "metadata": {},
   "outputs": [
    {
     "data": {
      "text/plain": [
       "({'subsample': 0.5,\n",
       "  'max_features': 'log2',\n",
       "  'max_depth': 10,\n",
       "  'learning_rate': 0.1},\n",
       " -3931.393548451928,\n",
       " GradientBoostingRegressor(alpha=0.9, criterion='friedman_mse', init=None,\n",
       "              learning_rate=0.1, loss='ls', max_depth=10,\n",
       "              max_features='log2', max_leaf_nodes=None,\n",
       "              min_impurity_decrease=0.0, min_impurity_split=None,\n",
       "              min_samples_leaf=1, min_samples_split=2,\n",
       "              min_weight_fraction_leaf=0.0, n_estimators=100,\n",
       "              n_iter_no_change=None, presort='auto', random_state=None,\n",
       "              subsample=0.5, tol=0.0001, validation_fraction=0.1, verbose=0,\n",
       "              warm_start=False))"
      ]
     },
     "execution_count": 141,
     "metadata": {},
     "output_type": "execute_result"
    }
   ],
   "source": [
    "randm.best_params_, randm.best_score_, randm.best_estimator_"
   ]
  },
  {
   "cell_type": "markdown",
   "metadata": {},
   "source": [
    "La mejor combinación es: *subsample=0.5*, *max_features=log2*, *max_depth=10* y *learning_rate=0.1*."
   ]
  },
  {
   "cell_type": "code",
   "execution_count": 134,
   "metadata": {},
   "outputs": [
    {
     "name": "stdout",
     "output_type": "stream",
     "text": [
      "GradientBoostingRegressor(alpha=0.9, criterion='friedman_mse', init=None,\n",
      "             learning_rate=0.1, loss='ls', max_depth=10,\n",
      "             max_features='log2', max_leaf_nodes=None,\n",
      "             min_impurity_decrease=0.0, min_impurity_split=None,\n",
      "             min_samples_leaf=1, min_samples_split=2,\n",
      "             min_weight_fraction_leaf=0.0, n_estimators=100,\n",
      "             n_iter_no_change=None, presort='auto', random_state=1,\n",
      "             subsample=0.5, tol=0.0001, validation_fraction=0.1, verbose=0,\n",
      "             warm_start=False)\n"
     ]
    }
   ],
   "source": [
    "gboost = GradientBoostingRegressor(subsample=0.5, max_features=\"log2\", max_depth=10, learning_rate=0.1, random_state=1)\n",
    "gboost.fit(x_train, y_train)"
   ]
  },
  {
   "cell_type": "code",
   "execution_count": 146,
   "metadata": {},
   "outputs": [],
   "source": [
    "predict_gboost_train = gboost.predict(X = x_train)\n",
    "predict_gboost_test  = gboost.predict(X = x_test)"
   ]
  },
  {
   "cell_type": "code",
   "execution_count": 147,
   "metadata": {},
   "outputs": [
    {
     "name": "stdout",
     "output_type": "stream",
     "text": [
      "El error (rmse) de test es: 5766.782896337585\n"
     ]
    }
   ],
   "source": [
    "rmse_gboost2 = mean_squared_error(\n",
    "                y_true  = y_test,\n",
    "                y_pred  = predict_gboost\n",
    "               )\n",
    "print(f\"El error (rmse) de test es: {np.sqrt(rmse_gboost2)}\")"
   ]
  },
  {
   "cell_type": "markdown",
   "metadata": {},
   "source": [
    "**Random Forest**"
   ]
  },
  {
   "cell_type": "markdown",
   "metadata": {},
   "source": [
    "Para el random forest se encontrará el mejor rendimiento realizando diferentes combinaciones de los hiperparámetros: *n_estimators*, *max_features* y *max_depth*. Adicionalmente, se realizará validación cruzada para cada iteración con la función *RandomizedSearchCV*."
   ]
  },
  {
   "cell_type": "code",
   "execution_count": 149,
   "metadata": {
    "scrolled": true
   },
   "outputs": [
    {
     "name": "stdout",
     "output_type": "stream",
     "text": [
      "Fitting 10 folds for each of 5 candidates, totalling 50 fits\n",
      "({'n_estimators': 80,\n",
      "  'max_features': 'auto',\n",
      "  'max_depth': 90)\n"
     ]
    }
   ],
   "source": [
    "random_grid = {'n_estimators': range(20, 200, 30),\n",
    "               'max_features': ['auto', 'sqrt'],\n",
    "               'max_depth': range(10, 110, 20)}\n",
    "\n",
    "rf = RandomForestRegressor()\n",
    "\n",
    "rf_random = RandomizedSearchCV(estimator = rf, \n",
    "                               param_distributions = random_grid, \n",
    "                               scoring = 'neg_mean_absolute_error', \n",
    "                               n_iter = 5, \n",
    "                               cv = 10, \n",
    "                               verbose=3, \n",
    "                               random_state=1, \n",
    "                               n_jobs = -1)\n",
    "\n",
    "rf_random.fit(x_train, y_train)"
   ]
  },
  {
   "cell_type": "code",
   "execution_count": 148,
   "metadata": {},
   "outputs": [
    {
     "data": {
      "text/plain": [
       "({'n_estimators': 80, 'max_features': 'auto', 'max_depth': 90},\n",
       " -3201.7186451335174,\n",
       " RandomForestRegressor(bootstrap=True, criterion='mse', max_depth=90,\n",
       "            max_features='auto', max_leaf_nodes=None,\n",
       "            min_impurity_decrease=0.0, min_impurity_split=None,\n",
       "            min_samples_leaf=1, min_samples_split=2,\n",
       "            min_weight_fraction_leaf=0.0, n_estimators=80, n_jobs=None,\n",
       "            oob_score=False, random_state=None, verbose=0, warm_start=False))"
      ]
     },
     "execution_count": 148,
     "metadata": {},
     "output_type": "execute_result"
    }
   ],
   "source": [
    "rf_random.best_params_, rf_random.best_score_, rf_random.best_estimator_"
   ]
  },
  {
   "cell_type": "markdown",
   "metadata": {},
   "source": [
    "La mejor combinación es: *n_estimators=80*, *max_features=auto* y *max_depth=90*."
   ]
  },
  {
   "cell_type": "code",
   "execution_count": 150,
   "metadata": {},
   "outputs": [
    {
     "data": {
      "text/plain": [
       "RandomForestRegressor(bootstrap=True, criterion='mse', max_depth=90,\n",
       "           max_features='auto', max_leaf_nodes=None,\n",
       "           min_impurity_decrease=0.0, min_impurity_split=None,\n",
       "           min_samples_leaf=1, min_samples_split=2,\n",
       "           min_weight_fraction_leaf=0.0, n_estimators=80, n_jobs=None,\n",
       "           oob_score=False, random_state=1, verbose=0, warm_start=False)"
      ]
     },
     "execution_count": 150,
     "metadata": {},
     "output_type": "execute_result"
    }
   ],
   "source": [
    "rf = RandomForestRegressor(n_estimators=80, max_features=\"auto\", max_depth=90, random_state=1)\n",
    "rf.fit(x_train, y_train)"
   ]
  },
  {
   "cell_type": "code",
   "execution_count": 152,
   "metadata": {},
   "outputs": [],
   "source": [
    "predict_rf_train = rf.predict(X = x_train)\n",
    "predict_rf_test  = rf.predict(X = x_test)"
   ]
  },
  {
   "cell_type": "code",
   "execution_count": 153,
   "metadata": {},
   "outputs": [
    {
     "name": "stdout",
     "output_type": "stream",
     "text": [
      "El error (rmse) de test es: 5323.155589991751\n"
     ]
    }
   ],
   "source": [
    "rmse_rf2 = mean_squared_error(\n",
    "                y_true  = y_test,\n",
    "                y_pred  = predict_rf_test\n",
    "               )\n",
    "print(f\"El error (rmse) de test es: {np.sqrt(rmse_rf2)}\")"
   ]
  },
  {
   "cell_type": "markdown",
   "metadata": {},
   "source": [
    "**XGBoost**"
   ]
  },
  {
   "cell_type": "markdown",
   "metadata": {},
   "source": [
    "Para el xtreme gradient boosting se encontrará el mejor rendimiento realizando diferentes combinaciones de los hiperparámetros: *colsample_bytree*, *learning_rate* y *gamma*. Adicionalmente, se realizará validación cruzada para cada iteración con la función *RandomizedSearchCV*."
   ]
  },
  {
   "cell_type": "code",
   "execution_count": 159,
   "metadata": {},
   "outputs": [
    {
     "name": "stdout",
     "output_type": "stream",
     "text": [
      "Fitting 10 folds for each of 5 candidates, totalling 50 fits\n",
      "RandomizedSearchCV(cv=10, error_score=0,\n",
      "          estimator=XGBRegressor(base_score=0.5, booster='gbtree', colsample_bylevel=1,\n",
      "       colsample_bynode=1, colsample_bytree=1, gamma=0,\n",
      "       importance_type='gain', learning_rate=0.1, max_delta_step=0,\n",
      "       max_depth=3, min_child_weight=1, missing=None, n_estimators=100,\n",
      "       n_jobs=1, nthread=None, objective='reg:linear', random_state=0,\n",
      "       reg_alpha=0, reg_lambda=1, scale_pos_weight=1, seed=None,\n",
      "       silent=None, subsample=1, verbosity=1),\n",
      "          fit_params=None, iid='warn', n_iter=5, n_jobs=-1,\n",
      "          param_distributions={'colsample_bytree': [0.01, 0.1, 0.5, 1], 'learning_rate': [0.01, 0.1, 0.5, 1], 'gamma': [0.01, 0.1, 5, 50]},\n",
      "          pre_dispatch='2*n_jobs', random_state=1, refit=True,\n",
      "          return_train_score='warn', scoring='neg_mean_absolute_error',\n",
      "          verbose=3)\n"
     ]
    }
   ],
   "source": [
    "clf_xgb = XGBRegressor()\n",
    "\n",
    "param_dist = {'colsample_bytree': [0.01, 0.1, 0.5, 1],\n",
    "              'learning_rate': [0.01, 0.1, 0.5, 1],\n",
    "              'gamma': [0.01, 0.1, 5, 50],\n",
    "             }\n",
    "\n",
    "clf = RandomizedSearchCV(clf_xgb, \n",
    "                         param_distributions = param_dist,\n",
    "                         cv = 10,  \n",
    "                         n_iter = 5, \n",
    "                         scoring = 'neg_mean_absolute_error', \n",
    "                         error_score = 0, \n",
    "                         verbose = 3, \n",
    "                         n_jobs = -1,\n",
    "                         random_state=1)\n",
    "\n",
    "clf.fit(x_train, y_train)"
   ]
  },
  {
   "cell_type": "code",
   "execution_count": 160,
   "metadata": {},
   "outputs": [
    {
     "data": {
      "text/plain": [
       "({'learning_rate': 1, 'gamma': 0.1, 'colsample_bytree': 0.5},\n",
       " -3383.499805189865,\n",
       " XGBRegressor(base_score=0.5, booster='gbtree', colsample_bylevel=1,\n",
       "        colsample_bynode=1, colsample_bytree=0.5, gamma=0.1,\n",
       "        importance_type='gain', learning_rate=1, max_delta_step=0,\n",
       "        max_depth=3, min_child_weight=1, missing=None, n_estimators=100,\n",
       "        n_jobs=1, nthread=None, objective='reg:linear', random_state=0,\n",
       "        reg_alpha=0, reg_lambda=1, scale_pos_weight=1, seed=None,\n",
       "        silent=None, subsample=1, verbosity=1))"
      ]
     },
     "execution_count": 160,
     "metadata": {},
     "output_type": "execute_result"
    }
   ],
   "source": [
    "clf.best_params_, clf.best_score_, clf.best_estimator_"
   ]
  },
  {
   "cell_type": "markdown",
   "metadata": {},
   "source": [
    "La mejor combinación es: *learning_rate=1*, *gamma=0.1* y *colsample_bytree=0.5*."
   ]
  },
  {
   "cell_type": "code",
   "execution_count": 161,
   "metadata": {},
   "outputs": [
    {
     "name": "stdout",
     "output_type": "stream",
     "text": [
      "[18:23:11] WARNING: /workspace/src/objective/regression_obj.cu:152: reg:linear is now deprecated in favor of reg:squarederror.\n"
     ]
    },
    {
     "data": {
      "text/plain": [
       "XGBRegressor(base_score=0.5, booster='gbtree', colsample_bylevel=1,\n",
       "       colsample_bynode=1, colsample_bytree=0.5, gamma=0.1,\n",
       "       importance_type='gain', learning_rate=1, max_delta_step=0,\n",
       "       max_depth=3, min_child_weight=1, missing=None, n_estimators=100,\n",
       "       n_jobs=1, nthread=None, objective='reg:linear', random_state=1,\n",
       "       reg_alpha=0, reg_lambda=1, scale_pos_weight=1, seed=None,\n",
       "       silent=None, subsample=1, verbosity=1)"
      ]
     },
     "execution_count": 161,
     "metadata": {},
     "output_type": "execute_result"
    }
   ],
   "source": [
    "xgboost = XGBRegressor(learning_rate=1, gamma=0.1, colsample_bytree=0.5, random_state=1)\n",
    "xgboost.fit(x_train, y_train)"
   ]
  },
  {
   "cell_type": "code",
   "execution_count": 162,
   "metadata": {},
   "outputs": [],
   "source": [
    "predict_xgboost_train = xgboost.predict(x_train)\n",
    "predict_xgboost_test  = xgboost.predict(x_test)"
   ]
  },
  {
   "cell_type": "code",
   "execution_count": 163,
   "metadata": {},
   "outputs": [
    {
     "name": "stdout",
     "output_type": "stream",
     "text": [
      "El error (rmse) de test es: 5211.97378270594\n"
     ]
    }
   ],
   "source": [
    "rmse_xgboost2 = mean_squared_error(\n",
    "                y_true  = y_test,\n",
    "                y_pred  = predict_xgboost_test\n",
    "               )\n",
    "print(f\"El error (rmse) de test es: {np.sqrt(rmse_xgboost2)}\")"
   ]
  },
  {
   "cell_type": "markdown",
   "metadata": {},
   "source": [
    "**Stacking**"
   ]
  },
  {
   "cell_type": "markdown",
   "metadata": {},
   "source": [
    "Finalmente, se realizará un ensamble a través de stacking con los 5 modelos propuestos y calibrados anteriormente. Para esto se usará un modelo de regresión lineal con penalización Ridge. Esta regresión también se calibrará para encontrar el alpha óptimo con la función cross_validate."
   ]
  },
  {
   "cell_type": "code",
   "execution_count": 194,
   "metadata": {},
   "outputs": [],
   "source": [
    "df_staking_train = pd.DataFrame({\"predict_arbol_train\":list(predict_arbol_train),\n",
    "                                 \"predict_ridge_train\":list(predict_ridge_train),\n",
    "                                 \"predict_rf_train\":list(predict_rf_train),\n",
    "                                 \"predict_gboost_train\":list(predict_gboost_train),\n",
    "                                 \"predict_xgboost_train\":list(predict_xgboost_train),\n",
    "                                 \"Price\":list(y_train)})\n",
    "\n",
    "df_staking_test  = pd.DataFrame({\"predict_arbol_test\":list(predict_arbol_test),\n",
    "                                 \"predict_ridge_test\":list(predict_ridge_test),\n",
    "                                 \"predict_rf_test\":list(predict_rf_test),\n",
    "                                 \"predict_gboost_test\":list(predict_gboost_test),\n",
    "                                 \"predict_xgboost_test\":list(predict_xgboost_test)})"
   ]
  },
  {
   "cell_type": "code",
   "execution_count": 195,
   "metadata": {},
   "outputs": [
    {
     "name": "stdout",
     "output_type": "stream",
     "text": [
      "1644.0716177290549\n",
      "1644.0716177290549\n",
      "1644.0716177290549\n",
      "1644.0716177290549\n",
      "1644.0716177290547\n",
      "1644.0716177290549\n",
      "1644.0716177290549\n",
      "1644.0716177290549\n",
      "1644.0716177290549\n",
      "1644.0716177290549\n"
     ]
    }
   ],
   "source": [
    "alpharange = np.arange(0, 1, 0.1)\n",
    "ridge = []\n",
    "for alpha in alpharange:\n",
    "    reg = Ridge(alpha=alpha, random_state=1)\n",
    "    regs = np.mean(cross_validate(CV=10, model=reg, data=df_staking_train))\n",
    "    ridge.append(regs)\n",
    "    print(regs)"
   ]
  },
  {
   "cell_type": "code",
   "execution_count": 185,
   "metadata": {},
   "outputs": [
    {
     "data": {
      "text/plain": [
       "0.4"
      ]
     },
     "execution_count": 185,
     "metadata": {},
     "output_type": "execute_result"
    }
   ],
   "source": [
    "results_ridge = pd.DataFrame({'alpha':alpharange,'rmse':ridge})\n",
    "alpha_optimo = results_ridge.sort_values(by=('rmse')).iloc[0,0]\n",
    "alpha_optimo"
   ]
  },
  {
   "cell_type": "code",
   "execution_count": 186,
   "metadata": {},
   "outputs": [
    {
     "data": {
      "text/plain": [
       "<matplotlib.legend.Legend at 0x7f773deaddd8>"
      ]
     },
     "execution_count": 186,
     "metadata": {},
     "output_type": "execute_result"
    },
    {
     "data": {
      "image/png": "[encoded data removed]",
      "text/plain": [
       "<Figure size 432x288 with 1 Axes>"
      ]
     },
     "metadata": {
      "needs_background": "light"
     },
     "output_type": "display_data"
    }
   ],
   "source": [
    "plt.plot(alpharange,ridge,color=\"red\",label=\"Ridge\")\n",
    "plt.xlabel('alpha')\n",
    "plt.ylabel('RMSE')\n",
    "plt.title(\"Mean\")\n",
    "plt.legend()"
   ]
  },
  {
   "cell_type": "markdown",
   "metadata": {},
   "source": [
    "Se obtiene el mismo RMSE con cualquier alpha dentro del rango propuesto para la regresión ridge."
   ]
  },
  {
   "cell_type": "code",
   "execution_count": 188,
   "metadata": {},
   "outputs": [
    {
     "data": {
      "text/plain": [
       "Ridge(alpha=0.4, copy_X=True, fit_intercept=True, max_iter=None,\n",
       "   normalize=False, random_state=1, solver='auto', tol=0.001)"
      ]
     },
     "execution_count": 188,
     "metadata": {},
     "output_type": "execute_result"
    }
   ],
   "source": [
    "reg = Ridge(alpha=alpha_optimo, random_state=1)\n",
    "reg.fit(df_staking_train, y_train)"
   ]
  },
  {
   "cell_type": "code",
   "execution_count": 196,
   "metadata": {},
   "outputs": [],
   "source": [
    "predict_stacking = reg.predict(df_staking_test)"
   ]
  },
  {
   "cell_type": "code",
   "execution_count": 197,
   "metadata": {},
   "outputs": [
    {
     "name": "stdout",
     "output_type": "stream",
     "text": [
      "El error (rmse) de test es: 5728.306056592991\n"
     ]
    }
   ],
   "source": [
    "rmse_stacking2 = mean_squared_error(\n",
    "                  y_true  = y_test,\n",
    "                  y_pred  = predict_stacking\n",
    "                 )\n",
    "print(f\"El error (rmse) de test es: {np.sqrt(rmse_stacking2)}\")"
   ]
  },
  {
   "cell_type": "markdown",
   "metadata": {},
   "source": [
    "### Conclusiones"
   ]
  },
  {
   "cell_type": "markdown",
   "metadata": {},
   "source": [
    "A continuación, se presenta el resumen de todos los modelos ajustados:"
   ]
  },
  {
   "cell_type": "code",
   "execution_count": 211,
   "metadata": {},
   "outputs": [
    {
     "name": "stdout",
     "output_type": "stream",
     "text": [
      "Modelo------------------------ Parámetros por defecto -- Calibración\n",
      "XGBoost:---------------------- 6868.93 ----------------- 5211.97\n",
      "Random Forest:---------------- 5431.05 ----------------- 5323.16\n",
      "Grandient Boosting:----------- 6864.9 ------------------ 5766.78\n",
      "Regresión lineal ridge:------- 5694.48 ----------------- 5801.02\n",
      "Árbol de decisión:------------ 6749.16 ----------------- 6333.99\n",
      "\n",
      "Stacking con calibración:----- 5728.31\n"
     ]
    }
   ],
   "source": [
    "print(\"Modelo------------------------ Parámetros por defecto -- Calibración\")\n",
    "print(\"XGBoost:----------------------\", round(rmse_xgboost,2), \"-----------------\", round(np.sqrt(rmse_xgboost2),2))\n",
    "print(\"Random Forest:----------------\", round(rmse_rf,2), \"-----------------\", round(np.sqrt(rmse_rf2),2))\n",
    "print(\"Grandient Boosting:-----------\", round(rmse_gboost,2), \"------------------\", round(np.sqrt(rmse_gboost2),2))\n",
    "print(\"Regresión lineal ridge:-------\", round(rmse_ridge,2), \"-----------------\", round(np.sqrt(rmse_ridge2),2))\n",
    "print(\"Árbol de decisión:------------\", round(rmse_arbol,2), \"-----------------\", round(np.sqrt(rmse_arbol2),2))\n",
    "print(\"\")\n",
    "print(\"Stacking con calibración:-----\", round(np.sqrt(rmse_stacking2),2))"
   ]
  },
  {
   "cell_type": "markdown",
   "metadata": {},
   "source": [
    "1. Se evidencia que todos los algoritmos al calibrar sus parámetros tienen mejor rendimiento, a excepción del modelo de regresión lineal con penalización ridge.\n",
    "2. Se observa que al realizar la calibración de los parámetros de cada modelo, el que mejor ajuste presento es el XGBoost. Inicialmente este modelo presento el peor rendimiento con los parámetros por defecto, este procedimiento ayudo a obtener una mejor precisión.\n",
    "3. Al considerar en la calibración todas las posibles combinaciones de los hiperparámetros nos permitio obtener la combinación óptima para los modelos gradient boosting, random forest y XGboost. \n",
    "2. El modelo de ensamblaje stacking no alcanza un mejor desempeño que el XGBoost y el Random Forest.\n",
    "4. La selección de variables nos permitio optimizar el tiempo de ejecución de cada modelo, especialmente en los modelos con árboles."
   ]
  },
  {
   "cell_type": "markdown",
   "metadata": {},
   "source": [
    "### Save model"
   ]
  },
  {
   "cell_type": "markdown",
   "metadata": {},
   "source": [
    "Finalmente, el mejor modelo para la predicción del precio para carros usados es el **XGBoost**."
   ]
  },
  {
   "cell_type": "code",
   "execution_count": 214,
   "metadata": {},
   "outputs": [],
   "source": [
    "pickle.dump(xgboost, open('best_model_price_xgboost.pkl', 'wb'))"
   ]
  },
  {
   "cell_type": "markdown",
   "metadata": {},
   "source": [
    "# Exercise P2.2 (50%)\n",
    "\n",
    "Create an API of the model.\n",
    "\n",
    "Example:\n",
    "![](https://raw.githubusercontent.com/albahnsen/PracticalMachineLearningClass/master/notebooks/images/img015.PNG)\n",
    "\n",
    "#### Evaluation:\n",
    "- 40% - API hosted on a cloud service\n",
    "- 10% - Show screenshots of the model doing the predictions on the local machine\n"
   ]
  },
  {
   "cell_type": "markdown",
   "metadata": {},
   "source": [
    "**A continuación se evidencia la foto de la API funcionando en el terminal de una instancia de AWS y algunos ejemplos de la predicción:**\n",
    "\n",
    "![](https://github.com/SVM2021/maad1/blob/main/Images/API.JPG?raw=true)\n"
   ]
  },
  {
   "cell_type": "markdown",
   "metadata": {},
   "source": [
    "**Nissan Sentra 2010, 10.000KM, Texas**\n",
    "\n",
    "![Screenshot 1](images/Nissan_Sentra.jpg)"
   ]
  },
  {
   "cell_type": "markdown",
   "metadata": {},
   "source": [
    "**Mazda 3 2018, 32.000KM, Ohio**\n",
    "\n",
    "![Screenshot 2](images/Mazda_3.jpg)"
   ]
  },
  {
   "cell_type": "markdown",
   "metadata": {},
   "source": [
    "**BMW X5 Drive 35i 2020, 50.000KM, Florida**\n",
    "\n",
    "![Screenshot 2](images/BMW_X5xDrive35i.jpg)"
   ]
  },
  {
   "cell_type": "markdown",
   "metadata": {},
   "source": [
    "**Subaru Impreza 2010, 80.000KM, California**\n",
    "\n",
    "![Screenshot 4](images/Subaru_Impreza.jpg)"
   ]
  },
  {
   "cell_type": "markdown",
   "metadata": {},
   "source": [
    "**Toyota Corolla 4dr 2012, 80.000KM, New York**\n",
    "\n",
    "![Screenshot 5](images/Toyota_Corolla4dr.jpg)"
   ]
  },
  {
   "cell_type": "markdown",
   "metadata": {},
   "source": [
    "**Chevrolet Corvette 2dr 2008, 65.000KM, Virginia**\n",
    "\n",
    "![Screenshot 6](images/Chevrolet_Corvette2dr.jpg)"
   ]
  },
  {
   "cell_type": "code",
   "execution_count": null,
   "metadata": {},
   "outputs": [],
   "source": []
  }
 ],
 "metadata": {
  "kernelspec": {
   "display_name": "Python 3",
   "language": "python",
   "name": "python3"
  },
  "language_info": {
   "codemirror_mode": {
    "name": "ipython",
    "version": 3
   },
   "file_extension": ".py",
   "mimetype": "text/x-python",
   "name": "python",
   "nbconvert_exporter": "python",
   "pygments_lexer": "ipython3",
   "version": "3.8.3"
  }
 },
 "nbformat": 4,
 "nbformat_minor": 4
}
